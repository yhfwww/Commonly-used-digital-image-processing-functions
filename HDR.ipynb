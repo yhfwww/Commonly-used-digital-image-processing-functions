{
 "cells": [
  {
   "cell_type": "markdown",
   "metadata": {},
   "source": [
    "###  HDR技术的python演示。\n",
    "\n",
    "关于什么是 HDR 可以参照百度百科https://baike.baidu.com/item/%E9%AB%98%E5%8A%A8%E6%80%81%E5%85%89%E7%85%A7%E6%B8%B2%E6%9F%93/3112921?fr=aladdin&fromid=852&fromtitle=HDR\n"
   ]
  },
  {
   "cell_type": "code",
   "execution_count": 16,
   "metadata": {
    "collapsed": true
   },
   "outputs": [],
   "source": [
    "import cv2\n",
    "import numpy as np\n",
    "img1=r'.\\img_data\\img_0.033.jpg'\n",
    "img2=r'.\\img_data\\img_0.25.jpg'\n",
    "img3=r'.\\img_data\\img_2.5.jpg'\n",
    "img4=r'.\\img_data\\img_15.jpg'"
   ]
  },
  {
   "cell_type": "code",
   "execution_count": 17,
   "metadata": {
    "collapsed": true
   },
   "outputs": [],
   "source": [
    "def readImagesAndTimes(img1,img2,img3,img4):\n",
    "    times = np.array([1/30.0,0.25,2.5,15.0],dtype=np.float32)\n",
    "    filenames =[img1,img2,img3,img4]\n",
    "    images = []\n",
    "    for filename in filenames:\n",
    "        im=cv2.imread(filename)\n",
    "        images.append(im)\n",
    "    return images,times"
   ]
  },
  {
   "cell_type": "code",
   "execution_count": 18,
   "metadata": {},
   "outputs": [
    {
     "name": "stdout",
     "output_type": "stream",
     "text": [
      "Reading images ... \n",
      "Aligning images...\n",
      "Calculating Camera Response Function (CRF) ... \n",
      "Merging images into one HDR image ... \n",
      "saved hdrDebevec.hdr \n"
     ]
    }
   ],
   "source": [
    "#读取图像文件和曝光时间\n",
    "print(\"Reading images ... \")\n",
    "images,times = readImagesAndTimes(img1,img2,img3,img4)\n",
    "#输入图像对齐\n",
    "print(\"Aligning images...\")\n",
    "alignMTB = cv2.createAlignMTB()\n",
    "alignMTB.process(images,images)\n",
    "#获得相机响应函数(CRF)\n",
    "print(\"Calculating Camera Response Function (CRF) ... \")\n",
    "calibrateDebevec = cv2.createCalibrateDebevec()\n",
    "responseDebevec = calibrateDebevec.process(images, times)\n",
    "#将图像合并到HDR线性图像中\n",
    "print(\"Merging images into one HDR image ... \")\n",
    "mergeDebevec = cv2.createMergeDebevec()\n",
    "hdrDebevec = mergeDebevec.process(images,times,responseDebevec)\n",
    "#保存HDR图像\n",
    "cv2.imwrite(\"hdrDebevec.hdr\", hdrDebevec)\n",
    "print(\"saved hdrDebevec.hdr \")"
   ]
  },
  {
   "cell_type": "code",
   "execution_count": null,
   "metadata": {},
   "outputs": [],
   "source": []
  }
 ],
 "metadata": {
  "kernelspec": {
   "display_name": "Python 3",
   "language": "python",
   "name": "python3"
  },
  "language_info": {
   "codemirror_mode": {
    "name": "ipython",
    "version": 3
   },
   "file_extension": ".py",
   "mimetype": "text/x-python",
   "name": "python",
   "nbconvert_exporter": "python",
   "pygments_lexer": "ipython3",
   "version": "3.5.3"
  }
 },
 "nbformat": 4,
 "nbformat_minor": 2
}
